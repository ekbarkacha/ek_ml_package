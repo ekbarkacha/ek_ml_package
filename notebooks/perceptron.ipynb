{
 "cells": [
  {
   "cell_type": "markdown",
   "id": "0bdaf7c1",
   "metadata": {},
   "source": [
    "#  Perceptron Algorithm\n",
    "\n",
    "In this tutorial, we will see how to implemenet [Perceptron](https://en.wikipedia.org/wiki/Perceptron) algorithm from scratch.\n",
    "\n",
    "### **Algorithm :**\n",
    "\n",
    "**Input:** Sequence of training examples $(x_1, y_1), (x_2, y_2), \\ldots$, where $x_i \\in \\mathbb{R}^n$, $y_i \\in \\{-1, +1\\}$\n",
    "**Output:** Final weight vector $w \\in \\mathbb{R}^n$\n",
    "\n",
    "```text\n",
    "1. Initialize:      w₁ = 0 ∈ ℝⁿ\n",
    "2. For t = 1, 2, ...\n",
    "3.     Sample (xᵢ, yᵢ)\n",
    "4.     Predict:      ŷ = sign(wₜᵀ xᵢ)\n",
    "5.     If ŷ ≠ yᵢ then\n",
    "6.         wₜ₊₁ = wₜ + yᵢ xᵢ\n",
    "7.     Else\n",
    "8.         wₜ₊₁ = wₜ\n",
    "```\n",
    "\n",
    "## Required Libraries"
   ]
  },
  {
   "cell_type": "code",
   "execution_count": 1,
   "id": "0b31bb52",
   "metadata": {},
   "outputs": [],
   "source": [
    "import numpy as np\n",
    "import matplotlib.pyplot as plt\n",
    "from sklearn.datasets import load_iris\n",
    "from sklearn.datasets import make_classification\n",
    "from sklearn.model_selection import train_test_split"
   ]
  },
  {
   "cell_type": "markdown",
   "id": "b9b1ad5f",
   "metadata": {},
   "source": [
    "## Data Preparation\n",
    "\n",
    "For this project, we will use the [Iris dataset](https://scikit-learn.org/1.4/auto_examples/datasets/plot_iris_dataset.html), which contains features for three species of iris flowers:\n",
    "\n",
    "* *Setosa*\n",
    "* *Versicolor*\n",
    "* *Virginica*\n",
    "\n",
    "Each sample includes four features:\n",
    "\n",
    "* Sepal length\n",
    "* Sepal width\n",
    "* Petal length\n",
    "* Petal width\n",
    "\n",
    "### Step 1: Convert to Binary Classification\n",
    "\n",
    "Since the Perceptron algorithm is designed for **binary classification**, we will modify the dataset:\n",
    "\n",
    "1. **Remove the third class (*Virginica*)**\n",
    "   We keep only the samples belonging to *Setosa* and *Versicolor*.\n",
    "\n",
    "2. **Map class labels from $\\{0, 1\\}$ to $\\{-1, +1\\}$**\n",
    "\n",
    "   * Setosa → `-1`\n",
    "   * Versicolor → `+1`\n",
    "\n",
    "This aligns the data with the standard formulation used in Perceptron training.\n",
    "\n",
    "### Step 2: Select Two Features\n",
    "\n",
    "To simplify visualization and reduce dimensionality, we will use **only two features**:\n",
    "\n",
    "* `Sepal width`\n",
    "* `Petal width`\n",
    "\n",
    "This allows us to **plot decision boundaries** easily in 2D and understand how the Perceptron separates the two classes."
   ]
  },
  {
   "cell_type": "code",
   "execution_count": 2,
   "id": "4b94761b",
   "metadata": {},
   "outputs": [
    {
     "name": "stdout",
     "output_type": "stream",
     "text": [
      "(80, 2)\n",
      "(80,)\n",
      "(20, 2)\n",
      "(20,)\n"
     ]
    }
   ],
   "source": [
    "# Import datasets from sklearn.datasets\n",
    "data = load_iris()\n",
    "\n",
    "# Transforms target to binary classification problem\n",
    "target = data.target\n",
    "y = target[target != 2]\n",
    "\n",
    "# Replace all 0 in the target by -1\n",
    "y = np.where(y==0,-1,y)\n",
    "\n",
    "# Inputs values\n",
    "Inputs = data.data\n",
    "\n",
    "# for simplicity let's keep only two features (columns) (sepal width and petal width)\n",
    "Inputs = np.hstack([Inputs[:, 1].reshape(-1, 1), Inputs[:, 3].reshape(-1, 1)])\n",
    "\n",
    "# Remove the last 50 rows in the inputs data (they belong to the class 2)\n",
    "X = Inputs[:100,:]\n",
    "\n",
    "# Combines the dataset and Shuffle them\n",
    "dataset = np.hstack((X,y.reshape(-1,1)))\n",
    "\n",
    "# Shuffle the dataset and split\n",
    "n,d = dataset.shape\n",
    "perm_index = np.random.permutation(n)\n",
    "dataset_ = dataset[perm_index]\n",
    "\n",
    "p = 0.8\n",
    "train_size=round(n*p)\n",
    "X_train, Y_train = dataset_[0:train_size,0:-1],dataset_[0:train_size,-1]\n",
    "X_test, Y_test = dataset_[train_size:,0:-1],dataset_[train_size:,-1]\n",
    "\n",
    "print(X_train.shape)\n",
    "print(Y_train.shape)\n",
    "print(X_test.shape)\n",
    "print(Y_test.shape)"
   ]
  },
  {
   "cell_type": "markdown",
   "id": "067cbab9",
   "metadata": {},
   "source": [
    "## Initialize Weights"
   ]
  },
  {
   "cell_type": "code",
   "execution_count": 3,
   "id": "2874a1dd",
   "metadata": {},
   "outputs": [],
   "source": [
    "def initialize_weights(d):\n",
    "    w = np.random.rand(d)*1e-4\n",
    "    return w"
   ]
  },
  {
   "cell_type": "markdown",
   "id": "37848dc9",
   "metadata": {},
   "source": [
    "## Shuffle Data"
   ]
  },
  {
   "cell_type": "code",
   "execution_count": 4,
   "id": "6eeb8a94",
   "metadata": {},
   "outputs": [],
   "source": [
    "def shuffle_data(X,y):\n",
    "      idx = np.random.permutation(X.shape[0])\n",
    "      return X[idx],y[idx]"
   ]
  },
  {
   "cell_type": "markdown",
   "id": "1aeb868a",
   "metadata": {},
   "source": [
    "## Prediction"
   ]
  },
  {
   "cell_type": "code",
   "execution_count": 5,
   "id": "7532e016",
   "metadata": {},
   "outputs": [],
   "source": [
    "def predict(x,w):\n",
    "    result = np.dot(x, w)\n",
    "    return np.where(result >= 0, 1, -1)"
   ]
  },
  {
   "cell_type": "markdown",
   "id": "1422eb93",
   "metadata": {},
   "source": [
    "## Accuracy"
   ]
  },
  {
   "cell_type": "code",
   "execution_count": 6,
   "id": "4de538ca",
   "metadata": {},
   "outputs": [],
   "source": [
    "def accuracy(y_true,y_pred):\n",
    "    return np.mean(y_true.flatten()==y_pred.flatten())*100"
   ]
  },
  {
   "cell_type": "markdown",
   "id": "d3950b87",
   "metadata": {},
   "source": [
    "## perceptron"
   ]
  },
  {
   "cell_type": "code",
   "execution_count": 7,
   "id": "1b30a450",
   "metadata": {},
   "outputs": [],
   "source": [
    "def perceptron(X,y,iter = 100,tol = 1e-5):\n",
    "    n,d = X.shape\n",
    "    w  = initialize_weights(d)\n",
    "    for epoch in range(iter):\n",
    "        X,y = shuffle_data(X,y)\n",
    "        updated = False\n",
    "        for i in range(n):\n",
    "            y_pred = predict(X[i],w)\n",
    "            if y_pred != y[i]:\n",
    "                w_new = w+ y[i]*X[i]\n",
    "                if np.linalg.norm(w_new - w) > tol:\n",
    "                    w = w_new\n",
    "                    updated = True\n",
    "\n",
    "        if not updated:\n",
    "            print(f\"Converged at epoch {epoch + 1}\")\n",
    "            break\n",
    "    return w\n"
   ]
  },
  {
   "cell_type": "markdown",
   "id": "1cdf27fe",
   "metadata": {},
   "source": [
    "## Example Usage"
   ]
  },
  {
   "cell_type": "code",
   "execution_count": 8,
   "id": "dde25990",
   "metadata": {},
   "outputs": [
    {
     "name": "stdout",
     "output_type": "stream",
     "text": [
      "Converged at epoch 2\n",
      "Accuracy: 100.0\n"
     ]
    },
    {
     "data": {
      "image/png": "[encoded data removed]",
      "text/plain": [
       "<Figure size 640x480 with 1 Axes>"
      ]
     },
     "metadata": {},
     "output_type": "display_data"
    }
   ],
   "source": [
    "w  = perceptron(X_train,Y_train,iter=200)\n",
    "\n",
    "y_pred = predict(X_test,w)\n",
    "print(f\"Accuracy: {accuracy(Y_test,y_pred)}\")\n",
    "\n",
    "# Plot\n",
    "slope = - w[0]/w[1]\n",
    "min = np.amin(X_train[:, 0])\n",
    "max = np.amax(X_train[:, 0])\n",
    "x1 = [min, max]\n",
    "x2 = [slope*min , slope*max]\n",
    "plt.scatter(X_train[:,0], X_train[:, 1], marker=\"o\", c=Y_train)\n",
    "plt.plot(x1, x2)\n",
    "plt.show()\n"
   ]
  },
  {
   "cell_type": "markdown",
   "id": "38f78932",
   "metadata": {},
   "source": [
    "## Perceptron Class\n",
    "Here we have combined all that we have discussed above in to a class. You can see the usage below"
   ]
  },
  {
   "cell_type": "code",
   "execution_count": 9,
   "id": "683750b9",
   "metadata": {},
   "outputs": [
    {
     "name": "stdout",
     "output_type": "stream",
     "text": [
      "Test Accuracy: 85.50%\n"
     ]
    }
   ],
   "source": [
    "import sys\n",
    "import os\n",
    "project_root = os.path.abspath(os.path.join(os.getcwd(), '..'))\n",
    "if project_root not in sys.path:\n",
    "    sys.path.insert(0, project_root)\n",
    "\n",
    "from ek_ml_package.perceptron import Perceptron\n",
    "\n",
    "# Generate synthetic binary classification data\n",
    "X, y = make_classification(\n",
    "    n_samples=1000,   \n",
    "    n_features=2,    \n",
    "    n_redundant=0,  \n",
    "    n_informative=2,  \n",
    "    n_clusters_per_class=1,\n",
    "    flip_y=0.1,\n",
    "    class_sep=1.0,     \n",
    "    random_state=42\n",
    ")\n",
    "\n",
    "# Convert labels from {0,1} to {-1,1}\n",
    "y = np.where(y == 0, -1, 1)\n",
    "\n",
    "# Split into train and test sets\n",
    "X_train, X_test, y_train, y_test = train_test_split(\n",
    "    X, y, test_size=0.2, random_state=42\n",
    ")\n",
    "\n",
    "# Instantiate and train the perceptron\n",
    "model = Perceptron(max_iter=1000, tol=1e-5,random_state = 123)\n",
    "model.fit(X_train, y_train)\n",
    "\n",
    "# Predict on test set\n",
    "y_pred = model.predict(X_test)\n",
    "\n",
    "# Calculate accuracy\n",
    "acc = model.accuracy(y_test, y_pred)\n",
    "print(f\"Test Accuracy: {acc:.2f}%\")\n"
   ]
  }
 ],
 "metadata": {
  "kernelspec": {
   "display_name": "ven",
   "language": "python",
   "name": "python3"
  },
  "language_info": {
   "codemirror_mode": {
    "name": "ipython",
    "version": 3
   },
   "file_extension": ".py",
   "mimetype": "text/x-python",
   "name": "python",
   "nbconvert_exporter": "python",
   "pygments_lexer": "ipython3",
   "version": "3.12.7"
  }
 },
 "nbformat": 4,
 "nbformat_minor": 5
}
